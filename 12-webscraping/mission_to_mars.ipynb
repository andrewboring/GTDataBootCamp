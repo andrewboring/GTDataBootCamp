{
 "cells": [
  {
   "cell_type": "code",
   "execution_count": 1,
   "metadata": {},
   "outputs": [],
   "source": [
    "import requests\n",
    "from bs4 import BeautifulSoup as bs\n",
    "from splinter import Browser\n",
    "import re\n",
    "import pandas as pd"
   ]
  },
  {
   "cell_type": "code",
   "execution_count": 2,
   "metadata": {},
   "outputs": [],
   "source": [
    "headers = {\n",
    "    'User-Agent': 'Shoe Scraper/1.0 (+https://a10g.com/shoe-scraper)'\n",
    "}"
   ]
  },
  {
   "cell_type": "markdown",
   "metadata": {},
   "source": [
    "## News\n",
    "Get news articles.\n",
    "Assign article/title to variables."
   ]
  },
  {
   "cell_type": "code",
   "execution_count": 3,
   "metadata": {},
   "outputs": [],
   "source": [
    "#newsurl = \"https://mars.nasa.gov/news/\"\n",
    "news_url=\"https://mars.nasa.gov/news?page=0&amp;per_page=40&amp;order=publish_date+desc%2Ccreated_at+desc&amp;search=&amp;category=19%2C165%2C184%2C204&amp;blank_scope=Latest\"\n",
    "news_response = requests.get(news_url, headers=headers)\n",
    "soup = bs(news_response.text, 'lxml')"
   ]
  },
  {
   "cell_type": "code",
   "execution_count": 4,
   "metadata": {},
   "outputs": [],
   "source": [
    "#print(soup.prettify())"
   ]
  },
  {
   "cell_type": "code",
   "execution_count": 5,
   "metadata": {},
   "outputs": [
    {
     "data": {
      "text/plain": [
       "6"
      ]
     },
     "execution_count": 5,
     "metadata": {},
     "output_type": "execute_result"
    }
   ],
   "source": [
    "# Find article titles\n",
    "article_titles = soup.find_all('div', class_='content_title')\n",
    "#article_titles\n",
    "news_titles = []\n",
    "for article in article_titles:\n",
    "    title = article.find('a')\n",
    "    title_text = title.text.strip()\n",
    "    #print(title_text)\n",
    "    news_titles.append(title_text)\n",
    "news_titles\n",
    "len(news_titles)"
   ]
  },
  {
   "cell_type": "code",
   "execution_count": 6,
   "metadata": {},
   "outputs": [
    {
     "data": {
      "text/plain": [
       "6"
      ]
     },
     "execution_count": 6,
     "metadata": {},
     "output_type": "execute_result"
    }
   ],
   "source": [
    "# Find paragraph text\n",
    "paragraphs = soup.find_all('div', class_='rollover_description')\n",
    "#paragraphs\n",
    "news_content = []\n",
    "for paragraph in paragraphs:\n",
    "    ptext = paragraph.find('div')\n",
    "    newsp = ptext.text.strip()\n",
    "    #print(newsp)\n",
    "    news_content.append(newsp)\n",
    "news_content\n",
    "len(news_content)"
   ]
  },
  {
   "cell_type": "code",
   "execution_count": 7,
   "metadata": {},
   "outputs": [],
   "source": [
    "all_latest_news = dict(zip(news_titles, news_content))\n",
    "latest_title = news_titles[0]\n",
    "latest_content = news_content[0]"
   ]
  },
  {
   "cell_type": "markdown",
   "metadata": {},
   "source": [
    "## JPL Featured Image"
   ]
  },
  {
   "cell_type": "code",
   "execution_count": 8,
   "metadata": {},
   "outputs": [],
   "source": [
    "#path = !which chromedriver\n",
    "#print(path[0])\n",
    "#path_to_chrome = path[0]\n",
    "#mars_images_browser = Browser(path_to_chrome, headless=False)\n",
    "mars_images_browser = Browser('chrome', headless=False)\n",
    "jpl_url = 'https://www.jpl.nasa.gov'\n",
    "space_img = 'spaceimages'\n",
    "qstring = '?search=&category=Mars'\n",
    "nasa_url = jpl_url + \"/\" + space_img + \"/\" + qstring"
   ]
  },
  {
   "cell_type": "code",
   "execution_count": 9,
   "metadata": {},
   "outputs": [
    {
     "data": {
      "text/plain": [
       "'https://www.jpl.nasa.gov/spaceimages/?search=&category=Mars'"
      ]
     },
     "execution_count": 9,
     "metadata": {},
     "output_type": "execute_result"
    }
   ],
   "source": [
    "#print(jpl_url + \"/\" + space_img + \"/\" + qstring) \n",
    "nasa_url"
   ]
  },
  {
   "cell_type": "code",
   "execution_count": 10,
   "metadata": {},
   "outputs": [],
   "source": [
    "mars_images_browser.visit(nasa_url)"
   ]
  },
  {
   "cell_type": "code",
   "execution_count": 11,
   "metadata": {},
   "outputs": [],
   "source": [
    "mars_images_html = mars_images_browser.html\n",
    "jpl_soup = bs(mars_images_html, 'html.parser')"
   ]
  },
  {
   "cell_type": "code",
   "execution_count": 12,
   "metadata": {},
   "outputs": [],
   "source": [
    "#print(jpl_soup.body.prettify())"
   ]
  },
  {
   "cell_type": "code",
   "execution_count": 13,
   "metadata": {},
   "outputs": [],
   "source": [
    "# Trying to get to this:\n",
    "# https://www.jpl.nasa.gov/spaceimages/images/largesize/PIA18847_hires.jpg\n",
    "\n",
    "featured_image = jpl_soup.find_all('a', class_='button fancybox')\n",
    "featured_image[0].attrs\n",
    "#jpl_img = featured_image[0]['data-link']\n",
    "jpl_img = featured_image[0]['data-fancybox-href']\n",
    "jpl_img_url = jpl_url + jpl_img \n",
    "jpl_img_url\n",
    "\n",
    "jpl_img_url_step1 = re.sub(r'mediumsize', \n",
    "                        r'largesize',\n",
    "                        jpl_img_url, re.IGNORECASE)\n",
    "jpl_img_url_lg = re.sub(r'_ip', \n",
    "                        r'_hires',\n",
    "                        jpl_img_url_step1, re.IGNORECASE)\n",
    "jpl_img_url_lg\n",
    "mars_images_browser.quit()"
   ]
  },
  {
   "cell_type": "markdown",
   "metadata": {},
   "source": [
    "## Mars Weather Twitter"
   ]
  },
  {
   "cell_type": "code",
   "execution_count": 14,
   "metadata": {},
   "outputs": [],
   "source": [
    "twiturl=\"https://twitter.com/marswxreport?lang=en\"\n",
    "twitresponse = requests.get(twiturl)\n",
    "twitsoup = bs(twitresponse.text, 'lxml')"
   ]
  },
  {
   "cell_type": "code",
   "execution_count": 15,
   "metadata": {},
   "outputs": [],
   "source": [
    "#print(soup.prettify())"
   ]
  },
  {
   "cell_type": "code",
   "execution_count": 16,
   "metadata": {},
   "outputs": [
    {
     "data": {
      "text/plain": [
       "'InSight sol 99 (2019-03-07) low -95.8ºC (-140.4ºF) high -13.3ºC (8.1ºF)\\nwinds from the SW at 4.2 m/s (9.5 mph) gusting to 12.0 m/s (26.8 mph)\\npressure at 7.20 hPapic.twitter.com/XRi0faFSv5'"
      ]
     },
     "execution_count": 16,
     "metadata": {},
     "output_type": "execute_result"
    }
   ],
   "source": [
    "# Find weather tweets with BeautifulSoup\n",
    "tweets = twitsoup.find_all('p', class_='TweetTextSize')\n",
    "weather_on_mars = tweets[0].text\n",
    "weather_on_mars"
   ]
  },
  {
   "cell_type": "markdown",
   "metadata": {},
   "source": [
    "## Space Facts"
   ]
  },
  {
   "cell_type": "code",
   "execution_count": 17,
   "metadata": {},
   "outputs": [],
   "source": [
    "space_facts = 'https://space-facts.com/mars/'\n",
    "sf_table = pd.read_html(space_facts)"
   ]
  },
  {
   "cell_type": "code",
   "execution_count": 18,
   "metadata": {},
   "outputs": [
    {
     "data": {
      "text/plain": [
       "[                      0                              1\n",
       " 0  Equatorial Diameter:                       6,792 km\n",
       " 1       Polar Diameter:                       6,752 km\n",
       " 2                 Mass:  6.42 x 10^23 kg (10.7% Earth)\n",
       " 3                Moons:            2 (Phobos & Deimos)\n",
       " 4       Orbit Distance:       227,943,824 km (1.52 AU)\n",
       " 5         Orbit Period:           687 days (1.9 years)\n",
       " 6  Surface Temperature:                  -153 to 20 °C\n",
       " 7         First Record:              2nd millennium BC\n",
       " 8          Recorded By:           Egyptian astronomers]"
      ]
     },
     "execution_count": 18,
     "metadata": {},
     "output_type": "execute_result"
    }
   ],
   "source": [
    "sf_table"
   ]
  },
  {
   "cell_type": "code",
   "execution_count": 19,
   "metadata": {},
   "outputs": [],
   "source": [
    "mars_table = pd.DataFrame(sf_table[0])\n",
    "mars_table.columns=['Attribute', 'Value']\n",
    "#mars_facts = sf_table[0].to_html()\n",
    "#print(mars_facts)\n",
    "mars_table\n",
    "mars_facts = mars_table.to_html()\n",
    "#print(mars_facts)"
   ]
  },
  {
   "cell_type": "markdown",
   "metadata": {},
   "source": [
    "## Hemispheres"
   ]
  },
  {
   "cell_type": "code",
   "execution_count": 20,
   "metadata": {},
   "outputs": [],
   "source": [
    "# Manual fallback\n",
    "#ch = 'http://astropedia.astrogeology.usgs.gov/download/Mars/Viking/cerberus_enhanced.tif/full.jpg'\n",
    "#vmh = 'http://astropedia.astrogeology.usgs.gov/download/Mars/Viking/valles_marineris_enhanced.tif/full.jpg'\n",
    "#sh = 'http://astropedia.astrogeology.usgs.gov/download/Mars/Viking/schiaparelli_enhanced.tif/full.jpg'\n",
    "#smh = 'http://astropedia.astrogeology.usgs.gov/download/Mars/Viking/syrtis_major_enhanced.tif/full.jpg'\n",
    "#\n",
    "#hemisphere_image_urls = [\n",
    "#    {\"title\": \"Valles Marineris Hemisphere\", \"img_url\": vmh},\n",
    "#    {\"title\": \"Cerberus Hemisphere\", \"img_url\": ch},\n",
    "#    {\"title\": \"Schiaparelli Hemisphere\", \"img_url\": sh},\n",
    "#    {\"title\": \"Syrtis Major Hemisphere\", \"img_url\": smh},\n",
    "#]"
   ]
  },
  {
   "cell_type": "code",
   "execution_count": 21,
   "metadata": {},
   "outputs": [],
   "source": [
    "usgs_browser = Browser('chrome', headless=False)\n",
    "usgs_url = 'https://astrogeology.usgs.gov/search/results?q=hemisphere+enhanced&k1=target&v1=Mars'\n",
    "usgs_browser.visit(usgs_url)"
   ]
  },
  {
   "cell_type": "code",
   "execution_count": 22,
   "metadata": {},
   "outputs": [],
   "source": [
    "mh_html = usgs_browser.html\n",
    "mh_soup = bs(mh_html, 'html.parser')"
   ]
  },
  {
   "cell_type": "code",
   "execution_count": 23,
   "metadata": {},
   "outputs": [],
   "source": [
    "#print(mh_soup.prettify())"
   ]
  },
  {
   "cell_type": "code",
   "execution_count": 24,
   "metadata": {},
   "outputs": [
    {
     "data": {
      "text/plain": [
       "[<div class=\"description\"><a class=\"itemLink product-item\" href=\"/search/map/Mars/Viking/cerberus_enhanced\"><h3>Cerberus Hemisphere Enhanced</h3></a><span class=\"subtitle\" style=\"float:left\">image/tiff 21 MB</span><span class=\"pubDate\" style=\"float:right\"></span><br/><p>Mosaic of the Cerberus hemisphere of Mars projected into point perspective, a view similar to that which one would see from a spacecraft. This mosaic is composed of 104 Viking Orbiter images acquired…</p></div>,\n",
       " <div class=\"description\"><a class=\"itemLink product-item\" href=\"/search/map/Mars/Viking/schiaparelli_enhanced\"><h3>Schiaparelli Hemisphere Enhanced</h3></a><span class=\"subtitle\" style=\"float:left\">image/tiff 35 MB</span><span class=\"pubDate\" style=\"float:right\"></span><br/><p>Mosaic of the Schiaparelli hemisphere of Mars projected into point perspective, a view similar to that which one would see from a spacecraft. The images were acquired in 1980 during early northern…</p></div>,\n",
       " <div class=\"description\"><a class=\"itemLink product-item\" href=\"/search/map/Mars/Viking/syrtis_major_enhanced\"><h3>Syrtis Major Hemisphere Enhanced</h3></a><span class=\"subtitle\" style=\"float:left\">image/tiff 25 MB</span><span class=\"pubDate\" style=\"float:right\"></span><br/><p>Mosaic of the Syrtis Major hemisphere of Mars projected into point perspective, a view similar to that which one would see from a spacecraft. This mosaic is composed of about 100 red and violet…</p></div>,\n",
       " <div class=\"description\"><a class=\"itemLink product-item\" href=\"/search/map/Mars/Viking/valles_marineris_enhanced\"><h3>Valles Marineris Hemisphere Enhanced</h3></a><span class=\"subtitle\" style=\"float:left\">image/tiff 27 MB</span><span class=\"pubDate\" style=\"float:right\"></span><br/><p>Mosaic of the Valles Marineris hemisphere of Mars projected into point perspective, a view similar to that which one would see from a spacecraft. The distance is 2500 kilometers from the surface of…</p></div>]"
      ]
     },
     "execution_count": 24,
     "metadata": {},
     "output_type": "execute_result"
    }
   ],
   "source": [
    "mh = mh_soup.find_all('div', class_='description')\n",
    "mh"
   ]
  },
  {
   "cell_type": "code",
   "execution_count": 25,
   "metadata": {},
   "outputs": [
    {
     "name": "stdout",
     "output_type": "stream",
     "text": [
      "https://astrogeology.usgs.gov/search/map/Mars/Viking/cerberus_enhanced\n",
      "https://astrogeology.usgs.gov/search/map/Mars/Viking/schiaparelli_enhanced\n",
      "https://astrogeology.usgs.gov/search/map/Mars/Viking/syrtis_major_enhanced\n",
      "https://astrogeology.usgs.gov/search/map/Mars/Viking/valles_marineris_enhanced\n",
      "[{'title': 'Cerberus Hemisphere', 'img_url': 'http://astropedia.astrogeology.usgs.gov/download/Mars/Viking/cerberus_enhanced.tif'}, {'title': 'Schiaparelli Hemisphere', 'img_url': 'http://astropedia.astrogeology.usgs.gov/download/Mars/Viking/schiaparelli_enhanced.tif'}, {'title': 'Syrtis Major Hemisphere', 'img_url': 'http://astropedia.astrogeology.usgs.gov/download/Mars/Viking/syrtis_major_enhanced.tif'}, {'title': 'Valles Marineris Hemisphere', 'img_url': 'http://astropedia.astrogeology.usgs.gov/download/Mars/Viking/valles_marineris_enhanced.tif'}]\n"
     ]
    }
   ],
   "source": [
    "mh_image_urls = []\n",
    "for image in mh:\n",
    "    h_url = image.find('a', class_='itemLink')\n",
    "    h = h_url.get('href')\n",
    "    h_link = 'https://astrogeology.usgs.gov' + h\n",
    "    print(h_link)\n",
    "\n",
    "    usgs_browser.visit(h_link)\n",
    "    h_image_dict = {}\n",
    "\n",
    "    h_html = usgs_browser.html\n",
    "    h_soup = bs(h_html, 'html.parser')\n",
    "\n",
    "    h_link = h_soup.find('a', text='Original').get('href')\n",
    "\n",
    "    h_title = h_soup.find('h2', class_='title').text.replace(' Enhanced', '')\n",
    "\n",
    "    h_image_dict['title'] = h_title\n",
    "    h_image_dict['img_url'] = h_link\n",
    "\n",
    "    mh_image_urls.append(h_image_dict)\n",
    "\n",
    "print(mh_image_urls)\n",
    "usgs_browser.quit()"
   ]
  },
  {
   "cell_type": "code",
   "execution_count": 28,
   "metadata": {},
   "outputs": [
    {
     "name": "stdout",
     "output_type": "stream",
     "text": [
      "Latest News Body: NASA's Opportunity Mars rover mission is complete after 15 years on Mars. Opportunity's record-breaking exploration laid the groundwork for future missions to the Red Planet.\n",
      "\n",
      "Weather on Mars: InSight sol 99 (2019-03-07) low -95.8ºC (-140.4ºF) high -13.3ºC (8.1ºF)\n",
      "winds from the SW at 4.2 m/s (9.5 mph) gusting to 12.0 m/s (26.8 mph)\n",
      "pressure at 7.20 hPapic.twitter.com/XRi0faFSv5\n",
      "HiRes JPL URL: https://www.jpl.nasa.gov/spaceimages/images/largesize/PIA19347_hires.jpg\n",
      "\n",
      "Mars Facts: <table border=\"1\" class=\"dataframe\">\n",
      "  <thead>\n",
      "    <tr style=\"text-align: right;\">\n",
      "      <th></th>\n",
      "      <th>Fact</th>\n",
      "      <th>More Fact!</th>\n",
      "    </tr>\n",
      "  </thead>\n",
      "  <tbody>\n",
      "    <tr>\n",
      "      <th>0</th>\n",
      "      <td>Equatorial Diameter:</td>\n",
      "      <td>6,792 km</td>\n",
      "    </tr>\n",
      "    <tr>\n",
      "      <th>1</th>\n",
      "      <td>Polar Diameter:</td>\n",
      "      <td>6,752 km</td>\n",
      "    </tr>\n",
      "    <tr>\n",
      "      <th>2</th>\n",
      "      <td>Mass:</td>\n",
      "      <td>6.42 x 10^23 kg (10.7% Earth)</td>\n",
      "    </tr>\n",
      "    <tr>\n",
      "      <th>3</th>\n",
      "      <td>Moons:</td>\n",
      "      <td>2 (Phobos &amp; Deimos)</td>\n",
      "    </tr>\n",
      "    <tr>\n",
      "      <th>4</th>\n",
      "      <td>Orbit Distance:</td>\n",
      "      <td>227,943,824 km (1.52 AU)</td>\n",
      "    </tr>\n",
      "    <tr>\n",
      "      <th>5</th>\n",
      "      <td>Orbit Period:</td>\n",
      "      <td>687 days (1.9 years)</td>\n",
      "    </tr>\n",
      "    <tr>\n",
      "      <th>6</th>\n",
      "      <td>Surface Temperature:</td>\n",
      "      <td>-153 to 20 °C</td>\n",
      "    </tr>\n",
      "    <tr>\n",
      "      <th>7</th>\n",
      "      <td>First Record:</td>\n",
      "      <td>2nd millennium BC</td>\n",
      "    </tr>\n",
      "    <tr>\n",
      "      <th>8</th>\n",
      "      <td>Recorded By:</td>\n",
      "      <td>Egyptian astronomers</td>\n",
      "    </tr>\n",
      "  </tbody>\n",
      "</table>\n",
      "\n",
      "Mars Hemisphers: \n",
      "[{'title': 'Cerberus Hemisphere', 'img_url': 'http://astropedia.astrogeology.usgs.gov/download/Mars/Viking/cerberus_enhanced.tif'}, {'title': 'Schiaparelli Hemisphere', 'img_url': 'http://astropedia.astrogeology.usgs.gov/download/Mars/Viking/schiaparelli_enhanced.tif'}, {'title': 'Syrtis Major Hemisphere', 'img_url': 'http://astropedia.astrogeology.usgs.gov/download/Mars/Viking/syrtis_major_enhanced.tif'}, {'title': 'Valles Marineris Hemisphere', 'img_url': 'http://astropedia.astrogeology.usgs.gov/download/Mars/Viking/valles_marineris_enhanced.tif'}]\n"
     ]
    }
   ],
   "source": [
    "# This is for checking the output when using the \"restart and run all\" option\n",
    "\n",
    "#print(\"Latest News Headline: \" + str(latest_title))\n",
    "#print(\"Latest News Body: \" + str(latest_content))\n",
    "\n",
    "#print(\"\")\n",
    "#print(\"Weather on Mars: \" + str(weather_on_mars))\n",
    "#print(\"HiRes JPL URL: \" + str(jpl_img_url_lg))\n",
    "\n",
    "#print(\"\")\n",
    "#print(\"Mars Facts: \" + mars_facts)\n",
    "\n",
    "#print(\"\")\n",
    "\n",
    "#print(\"Mars Hemisphers: \")\n",
    "#print(mh_image_urls)"
   ]
  },
  {
   "cell_type": "code",
   "execution_count": 30,
   "metadata": {},
   "outputs": [
    {
     "name": "stdout",
     "output_type": "stream",
     "text": [
      "{'latest_news': {'headline': \"NASA's Opportunity Rover Mission on Mars Comes to End\", 'content': \"NASA's Opportunity Mars rover mission is complete after 15 years on Mars. Opportunity's record-breaking exploration laid the groundwork for future missions to the Red Planet.\"}, 'current_weather': 'InSight sol 99 (2019-03-07) low -95.8ºC (-140.4ºF) high -13.3ºC (8.1ºF)\\nwinds from the SW at 4.2 m/s (9.5 mph) gusting to 12.0 m/s (26.8 mph)\\npressure at 7.20 hPapic.twitter.com/XRi0faFSv5', 'jpl_featured_image': 'https://www.jpl.nasa.gov/spaceimages/images/largesize/PIA19347_hires.jpg', 'facts': '<table border=\"1\" class=\"dataframe\">\\n  <thead>\\n    <tr style=\"text-align: right;\">\\n      <th></th>\\n      <th>Fact</th>\\n      <th>More Fact!</th>\\n    </tr>\\n  </thead>\\n  <tbody>\\n    <tr>\\n      <th>0</th>\\n      <td>Equatorial Diameter:</td>\\n      <td>6,792 km</td>\\n    </tr>\\n    <tr>\\n      <th>1</th>\\n      <td>Polar Diameter:</td>\\n      <td>6,752 km</td>\\n    </tr>\\n    <tr>\\n      <th>2</th>\\n      <td>Mass:</td>\\n      <td>6.42 x 10^23 kg (10.7% Earth)</td>\\n    </tr>\\n    <tr>\\n      <th>3</th>\\n      <td>Moons:</td>\\n      <td>2 (Phobos &amp; Deimos)</td>\\n    </tr>\\n    <tr>\\n      <th>4</th>\\n      <td>Orbit Distance:</td>\\n      <td>227,943,824 km (1.52 AU)</td>\\n    </tr>\\n    <tr>\\n      <th>5</th>\\n      <td>Orbit Period:</td>\\n      <td>687 days (1.9 years)</td>\\n    </tr>\\n    <tr>\\n      <th>6</th>\\n      <td>Surface Temperature:</td>\\n      <td>-153 to 20 °C</td>\\n    </tr>\\n    <tr>\\n      <th>7</th>\\n      <td>First Record:</td>\\n      <td>2nd millennium BC</td>\\n    </tr>\\n    <tr>\\n      <th>8</th>\\n      <td>Recorded By:</td>\\n      <td>Egyptian astronomers</td>\\n    </tr>\\n  </tbody>\\n</table>', 'hemispheres': [{'title': 'Cerberus Hemisphere', 'img_url': 'http://astropedia.astrogeology.usgs.gov/download/Mars/Viking/cerberus_enhanced.tif'}, {'title': 'Schiaparelli Hemisphere', 'img_url': 'http://astropedia.astrogeology.usgs.gov/download/Mars/Viking/schiaparelli_enhanced.tif'}, {'title': 'Syrtis Major Hemisphere', 'img_url': 'http://astropedia.astrogeology.usgs.gov/download/Mars/Viking/syrtis_major_enhanced.tif'}, {'title': 'Valles Marineris Hemisphere', 'img_url': 'http://astropedia.astrogeology.usgs.gov/download/Mars/Viking/valles_marineris_enhanced.tif'}]}\n"
     ]
    }
   ],
   "source": [
    "mars_bars = {\n",
    "    'latest_news':{\n",
    "        'headline':latest_title,\n",
    "        'content':latest_content\n",
    "    },\n",
    "    'current_weather':weather_on_mars,\n",
    "    'jpl_featured_image':jpl_img_url_lg,\n",
    "    'facts':mars_facts,\n",
    "    'hemispheres':mh_image_urls    \n",
    "}\n",
    "\n",
    "#print(\"\")\n",
    "#print(\"Weather on Mars: \" + str(weather_on_mars))\n",
    "#print(\"HiRes JPL URL: \" + str(jpl_img_url_lg))\n",
    "\n",
    "#print(\"\")\n",
    "#print(\"Mars Facts: \" + mars_facts)\n",
    "\n",
    "#print(\"\")\n",
    "\n",
    "#print(\"Mars Hemisphers: \")\n",
    "#print(mh_image_urls)\n",
    "print(mars_bars)"
   ]
  },
  {
   "cell_type": "code",
   "execution_count": 31,
   "metadata": {},
   "outputs": [
    {
     "name": "stdout",
     "output_type": "stream",
     "text": [
      "[NbConvertApp] Converting notebook mission_to_mars.ipynb to script\n",
      "[NbConvertApp] Writing 6243 bytes to scrape_mars.py\n"
     ]
    }
   ],
   "source": [
    "# one time output\n",
    "! jupyter nbconvert --to script --template basic mission_to_mars.ipynb --output scrape_mars"
   ]
  },
  {
   "cell_type": "code",
   "execution_count": null,
   "metadata": {},
   "outputs": [],
   "source": []
  }
 ],
 "metadata": {
  "kernelspec": {
   "display_name": "Python 3",
   "language": "python",
   "name": "python3"
  },
  "language_info": {
   "codemirror_mode": {
    "name": "ipython",
    "version": 3
   },
   "file_extension": ".py",
   "mimetype": "text/x-python",
   "name": "python",
   "nbconvert_exporter": "python",
   "pygments_lexer": "ipython3",
   "version": "3.6.8"
  }
 },
 "nbformat": 4,
 "nbformat_minor": 2
}
